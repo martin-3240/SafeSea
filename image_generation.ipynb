{
 "cells": [
  {
   "cell_type": "code",
   "execution_count": 2,
   "metadata": {},
   "outputs": [],
   "source": [
    "import subprocess\n",
    "import os\n",
    "image_directory = \"inputs\"\n",
    "image_list = []\n",
    "prompt = \"\"\"Aerial image of sea’s surface. \n",
    "        Canon EOS R3, Nikon d850 400mm, Canon DSLR, lens 300mm, 4K, HD\"\"\"\n",
    "for image in os.listdir(image_directory):\n",
    "    f = os.path.join(image_directory, image)\n",
    "    mask_fname = image.split('.')[0]+\"_mask.jpg\"\n",
    "    for i in range(100):\n",
    "        subprocess.run([\"python\", \"scripts/text_editing_stable_diffusion_1.py\", \"--prompt\", f\"{prompt}\", \"--batch_size\", \"10\",\n",
    "                        \"--init_image\", f\"{image_directory}/{image}\", \"--mask\", f\"inputs/val_masks/{mask_fname}\",\"--output_path\", f\"outputs/\", \n",
    "                        \"--gen\", f\"{i+1}\", \"--image_id\", f\"{image}\"])"
   ]
  },
  {
   "cell_type": "code",
   "execution_count": null,
   "metadata": {},
   "outputs": [],
   "source": []
  }
 ],
 "metadata": {
  "kernelspec": {
   "display_name": "ldm",
   "language": "python",
   "name": "python3"
  },
  "language_info": {
   "codemirror_mode": {
    "name": "ipython",
    "version": 3
   },
   "file_extension": ".py",
   "mimetype": "text/x-python",
   "name": "python",
   "nbconvert_exporter": "python",
   "pygments_lexer": "ipython3",
   "version": "3.11.5"
  },
  "orig_nbformat": 4
 },
 "nbformat": 4,
 "nbformat_minor": 2
}
