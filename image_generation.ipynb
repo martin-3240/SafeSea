{
 "cells": [
  {
   "cell_type": "code",
   "execution_count": null,
   "metadata": {},
   "outputs": [],
   "source": [
    "import subprocess\n",
    "import os\n",
    "\n",
    "# Define the directory containing input images\n",
    "image_directory = \"inputs/images\"\n",
    "\n",
    "# Initialize an empty list to store image filenames\n",
    "image_list = []\n",
    "\n",
    "# Define the prompt for text editing\n",
    "prompt = \"\"\"Aerial image of the seas surface. \n",
    "        Canon EOS R3, Nikon d850 400mm, Canon DSLR, lens 300mm, 4K, HD\"\"\"\n",
    "\n",
    "# Iterate through files in the image directory\n",
    "for img in os.listdir(image_directory):\n",
    "    # Create a mask filename based on the input image filename\n",
    "    mask_fname = img.split('.')[0] + \"_mask.jpg\"\n",
    "\n",
    "    # Run the text editing script five times with different parameters\n",
    "    for i in range(5):\n",
    "        subprocess.run([\n",
    "            \"python\", \"scripts/text_editing_stable_diffusion_1.py\",\n",
    "            \"--prompt\", f\"{prompt}\",\n",
    "            \"--batch_size\", \"10\",\n",
    "            \"--init_image\", f\"./inputs/images/{img}\",\n",
    "            \"--mask\", f\"./inputs/masks/{mask_fname}\",\n",
    "            \"--output_path\", \"outputs/\",\n",
    "            \"--gen\", f\"{i + 100}\",\n",
    "            \"--image_id\", f\"{img}\"\n",
    "        ])\n"
   ]
  }
 ],
 "metadata": {
  "kernelspec": {
   "display_name": "ldm",
   "language": "python",
   "name": "python3"
  },
  "language_info": {
   "codemirror_mode": {
    "name": "ipython",
    "version": 3
   },
   "file_extension": ".py",
   "mimetype": "text/x-python",
   "name": "python",
   "nbconvert_exporter": "python",
   "pygments_lexer": "ipython3",
   "version": "3.8.5"
  },
  "orig_nbformat": 4
 },
 "nbformat": 4,
 "nbformat_minor": 2
}
